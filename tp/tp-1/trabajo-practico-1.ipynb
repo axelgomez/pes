{
 "cells": [
  {
   "cell_type": "markdown",
   "metadata": {},
   "source": [
    "# Trabajo Práctico Nº 1\n",
    "\n",
    "Objetivos:\n",
    "* Aplicar conceptos de procesamiento de señales en python, como convolución.\n",
    "* Familiarizarse con el entorno de desarrollo de python notebooks\n",
    "\n",
    "## Ejercicios\n",
    "1- Encontrar la función de transferencia del moving average\n",
    "\n",
    "2- Inyectar al moving average una cuadrada de amplitud 1 y frecuencia 2KHz y una triangular de 1KHz. Analizar los resultados.\n",
    "\n",
    "3- Realizar un algoritmo de convolución en float y en punto fijo, comparar tiempos y error a la salida. Probar estrategias de redondeo, saturación y truncamiento.\n",
    "Medir tiempos de computo con el método: timeit de la lib timeit de la siguiente forma:"
   ]
  },
  {
   "cell_type": "code",
   "execution_count": 1,
   "metadata": {
    "collapsed": false
   },
   "outputs": [
    {
     "name": "stdout",
     "output_type": "stream",
     "text": [
      "Populating the interactive namespace from numpy and matplotlib\n"
     ]
    },
    {
     "ename": "ZeroDivisionError",
     "evalue": "division by zero",
     "output_type": "error",
     "traceback": [
      "\u001b[1;31m---------------------------------------------------------------------------\u001b[0m",
      "\u001b[1;31mZeroDivisionError\u001b[0m                         Traceback (most recent call last)",
      "\u001b[1;32m<ipython-input-1-dc2a5ac2c2a2>\u001b[0m in \u001b[0;36m<module>\u001b[1;34m()\u001b[0m\n\u001b[0;32m      4\u001b[0m \u001b[1;32mimport\u001b[0m \u001b[0mnumpy\u001b[0m \u001b[1;32mas\u001b[0m \u001b[0mnp\u001b[0m\u001b[1;33m\u001b[0m\u001b[0m\n\u001b[0;32m      5\u001b[0m \u001b[1;33m\u001b[0m\u001b[0m\n\u001b[1;32m----> 6\u001b[1;33m \u001b[0mt\u001b[0m \u001b[1;33m=\u001b[0m \u001b[0mnp\u001b[0m\u001b[1;33m.\u001b[0m\u001b[0marange\u001b[0m\u001b[1;33m(\u001b[0m\u001b[1;36m0\u001b[0m\u001b[1;33m,\u001b[0m \u001b[1;36m1024\u001b[0m\u001b[1;33m/\u001b[0m\u001b[1;36m20000\u001b[0m\u001b[1;33m,\u001b[0m \u001b[1;36m1\u001b[0m\u001b[1;33m/\u001b[0m\u001b[1;36m20000\u001b[0m\u001b[1;33m)\u001b[0m\u001b[1;33m\u001b[0m\u001b[0m\n\u001b[0m\u001b[0;32m      7\u001b[0m \u001b[0ms1\u001b[0m\u001b[1;33m=\u001b[0m \u001b[0msin\u001b[0m\u001b[1;33m(\u001b[0m\u001b[1;36m2\u001b[0m\u001b[1;33m*\u001b[0m\u001b[0mnp\u001b[0m\u001b[1;33m.\u001b[0m\u001b[0mpi\u001b[0m\u001b[1;33m*\u001b[0m\u001b[1;36m1000\u001b[0m\u001b[1;33m*\u001b[0m\u001b[0mt\u001b[0m\u001b[1;33m)\u001b[0m\u001b[1;33m+\u001b[0m\u001b[1;36m1\u001b[0m\u001b[1;33m\u001b[0m\u001b[0m\n\u001b[0;32m      8\u001b[0m \u001b[0ms2\u001b[0m \u001b[1;33m=\u001b[0m \u001b[0msin\u001b[0m\u001b[1;33m(\u001b[0m\u001b[1;36m2\u001b[0m\u001b[1;33m*\u001b[0m\u001b[0mnp\u001b[0m\u001b[1;33m.\u001b[0m\u001b[0mpi\u001b[0m\u001b[1;33m*\u001b[0m\u001b[1;36m1200\u001b[0m\u001b[1;33m*\u001b[0m\u001b[0mt\u001b[0m\u001b[1;33m)\u001b[0m\u001b[1;33m\u001b[0m\u001b[0m\n",
      "\u001b[1;31mZeroDivisionError\u001b[0m: division by zero"
     ]
    }
   ],
   "source": [
    "%pylab inline\n",
    "import timeit\n",
    "import time\n",
    "import numpy as np\n",
    "\n",
    "t = np.arange(0, 1024/20000, 1/20000)\n",
    "s1= sin(2*np.pi*1000*t)+1 \n",
    "s2 = sin(2*np.pi*1200*t)\n",
    "\n",
    "# METODO 1 de medición de tiempos\n",
    "\n",
    "# Este wrapper empaqueta funciones para que el timeit pueda medir solo eso\n",
    "def wrapper(func, *args):\n",
    "    def wrapped():\n",
    "        return func(*args)\n",
    "    return wrapped\n",
    "\n",
    "conv = wrapper(np.convolve, s1, s2)\n",
    "print (timeit.timeit(conv, number=1))\n",
    "\n",
    "# METODO 2 de medición de tiempos\n",
    "start = time.time()\n",
    "conv_r = np.convolve(s1,s2)\n",
    "end = time.time()\n",
    "print (end-start)\n",
    "\n"
   ]
  },
  {
   "cell_type": "markdown",
   "metadata": {},
   "source": [
    "La diferencia en la medición depende de la carga de la CPU y que el primer método mide solamente la función pedida. Usar uno de los 2 para realizar la medición, como la medición es comparativa, solo importa usar el mismo método para todo, los valores absolutos no importan."
   ]
  },
  {
   "cell_type": "code",
   "execution_count": 1,
   "metadata": {},
   "outputs": [
    {
     "name": "stdout",
     "output_type": "stream",
     "text": [
      "Populating the interactive namespace from numpy and matplotlib\n",
      "0.0027524\n",
      "0.000999927520752\n",
      "[-1.         -0.79899497 -0.59798995 -0.39698492 -0.1959799   0.00502513\n",
      "  0.20603015  0.40703518  0.6080402   0.80904523  0.98994975  0.78894472\n",
      "  0.5879397   0.38693467  0.18592965 -0.01507538 -0.2160804  -0.41708543\n",
      " -0.61809045 -0.81909548 -0.9798995  -0.77889447 -0.57788945 -0.37688442\n",
      " -0.1758794   0.02512563  0.22613065  0.42713568  0.6281407   0.82914573\n",
      "  0.96984925  0.76884422  0.5678392   0.36683417  0.16582915 -0.03517588\n",
      " -0.2361809  -0.43718593 -0.63819095 -0.83919598 -0.95979899 -0.75879397\n",
      " -0.55778894 -0.35678392 -0.15577889  0.04522613  0.24623116  0.44723618\n",
      "  0.64824121  0.84924623  0.94974874  0.74874372  0.54773869  0.34673367\n",
      "  0.14572864 -0.05527638 -0.25628141 -0.45728643 -0.65829146 -0.85929648\n",
      " -0.93969849 -0.73869347 -0.53768844 -0.33668342 -0.13567839  0.06532663\n",
      "  0.26633166  0.46733668  0.66834171  0.86934673  0.92964824  0.72864322\n",
      "  0.52763819  0.32663317  0.12562814 -0.07537688 -0.27638191 -0.47738693\n",
      " -0.67839196 -0.87939698 -0.91959799 -0.71859296 -0.51758794 -0.31658291\n",
      " -0.11557789  0.08542714  0.28643216  0.48743719  0.68844221  0.88944724\n",
      "  0.90954774  0.70854271  0.50753769  0.30653266  0.10552764 -0.09547739\n",
      " -0.29648241 -0.49748744 -0.69849246 -0.89949749]\n"
     ]
    },
    {
     "data": {
      "text/plain": [
       "<Figure size 432x288 with 0 Axes>"
      ]
     },
     "metadata": {},
     "output_type": "display_data"
    },
    {
     "data": {
      "image/png": "[encoded data removed]",
      "text/plain": [
       "<Figure size 1080x720 with 1 Axes>"
      ]
     },
     "metadata": {
      "needs_background": "light"
     },
     "output_type": "display_data"
    }
   ],
   "source": [
    "#1) # poner un delta y ver como es la respuesta del moving average, es decir, convolución entre la señal y un impulso\n",
    "#3) # medir los tiempos entre la convolución nuestra y la de numpy\n",
    "\n",
    "%pylab inline\n",
    "import timeit\n",
    "import time\n",
    "import numpy as np\n",
    "import scipy.signal as sig\n",
    "import matplotlib.pyplot as plt\n",
    "from scipy.fftpack import fft, ifft\n",
    "from __future__ import division\n",
    "\n",
    "#t = np.arange(0, 1024/20000, 1024/20000)\n",
    "\n",
    "t = np.arange(0, 0.0512, 0.00005)\n",
    "s1= sin(2*np.pi*1000*t)+1 \n",
    "s2 = sin(2*np.pi*1200*t)\n",
    "\n",
    "# METODO 1 de medición de tiempos\n",
    "# Este wrapper empaqueta funciones para que el timeit pueda medir solo eso\n",
    "def wrapper(func, *args):\n",
    "    def wrapped():\n",
    "        return func(*args)\n",
    "    return wrapped\n",
    "\n",
    "conv = wrapper(np.convolve, s1, s2)\n",
    "print (timeit.timeit(conv, number=1))\n",
    "\n",
    "# METODO 2 de medición de tiempos\n",
    "start = time.time()\n",
    "conv_r = np.convolve(s1,s2)\n",
    "end = time.time()\n",
    "print (end-start)\n",
    "\n",
    "#1)\n",
    "# se define la cantidad de puntos, la frecuencia de sampleo y el tiempo\n",
    "N = 200\n",
    "Fs = 20000\n",
    "t = np.linspace(0,N/Fs,num=N) # Crea una variable de tiempo desde 0, con intervalos de 1/Fs\n",
    "\n",
    "#se crea el Delta\n",
    "impulso = np.zeros(N, dtype=float, order='C')\n",
    "impulso[0]=1\n",
    "#print(impulso)\n",
    "\n",
    "#se crea la Cuadrada de amplitud 1 y frecuencia 2KHz y la triangular de 1KHz\n",
    "cuadrada = sig.square(2 * np.pi * 2000 * t)[:N]\n",
    "triangular = sig.sawtooth(2 * np.pi * 1000 * t,0.5)[:N]\n",
    "convolve_cuad = sig.convolve(impulso,cuadrada)\n",
    "convolve_triangular = sig.convolve(impulso,triangular)\n",
    "print(triangular[:100])\n",
    "\n",
    "#print(cuadrada[:100])\n",
    "\n",
    "#se hace la convolucion\n",
    "# se copia el array impulso para realizar la convolución\n",
    "tmp = np.copy(impulso)\n",
    "conv_cuadrada = np.empty(0)\n",
    "#print(\"{} {}\".format(b,tmp))\n",
    "\n",
    "sumatoria = 0\n",
    "for a in cuadrada:\n",
    "    if (len(tmp) > 1):\n",
    "        b, tmp = tmp[-1], tmp[:-1]\n",
    "    else:\n",
    "        b = tmp[-1]\n",
    "    sumatoria += a + b\n",
    "    conv_cuadrada = np.append(conv_cuadrada, sumatoria)\n",
    "\n",
    "tmp = np.copy(impulso)\n",
    "conv_triangular = np.empty(0)\n",
    "#print(\"{} {}\".format(b,tmp))\n",
    "\n",
    "sumatoria = 0\n",
    "for a in cuadrada:\n",
    "    if (len(tmp) > 1):\n",
    "        b, tmp = tmp[-1], tmp[:-1]\n",
    "    else:\n",
    "        b = tmp[-1]\n",
    "    sumatoria += a * b\n",
    "    conv_triangular = np.append(conv_triangular, sumatoria)\n",
    "\n",
    "\n",
    "plt.clf()\n",
    "fig = plt.figure(figsize=(15,10))\n",
    "\n",
    "#plt.stem(t,impulso)\n",
    "#plt.stem(t,cuadrada)\n",
    "plt.stem(t,conv_triangular) #HACER BIENNNNNNNN\n",
    "#plt.stem(t,convolve_triangular[:N])\n",
    "\n",
    "\n",
    "plt.show()\n",
    "\n",
    "#plt.stem(t,impulso)"
   ]
  }
 ],
 "metadata": {
  "kernelspec": {
   "display_name": "Python 2",
   "language": "python",
   "name": "python2"
  },
  "language_info": {
   "codemirror_mode": {
    "name": "ipython",
    "version": 2
   },
   "file_extension": ".py",
   "mimetype": "text/x-python",
   "name": "python",
   "nbconvert_exporter": "python",
   "pygments_lexer": "ipython2",
   "version": "2.7.13"
  }
 },
 "nbformat": 4,
 "nbformat_minor": 2
}
